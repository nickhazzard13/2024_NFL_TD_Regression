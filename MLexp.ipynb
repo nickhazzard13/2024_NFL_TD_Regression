{
 "cells": [
  {
   "cell_type": "code",
   "execution_count": null,
   "id": "775fca6b",
   "metadata": {},
   "outputs": [],
   "source": [
    "from sklearn.linear_model import LinearRegression\n",
    "from sklearn.model_selection import train_test_split\n",
    "import numpy as np\n",
    "import pandas as pd\n",
    "from sklearn.metrics import r2_score, mean_absolute_error, mean_squared_error\n",
    "import matplotlib.pyplot as plt\n",
    "from scipy.stats import norm\n",
    "\n"
   ]
  },
  {
   "cell_type": "code",
   "execution_count": 64,
   "id": "fadbb476",
   "metadata": {},
   "outputs": [],
   "source": [
    "df = pd.read_csv('../files/2024_fantasy_rb_stats.csv')"
   ]
  },
  {
   "cell_type": "markdown",
   "id": "0b3f3798",
   "metadata": {},
   "source": [
    "Linear Regression with Touchdowns Not Used as Feature"
   ]
  },
  {
   "cell_type": "code",
   "execution_count": 91,
   "id": "179d3afe",
   "metadata": {},
   "outputs": [
    {
     "name": "stdout",
     "output_type": "stream",
     "text": [
      "=== RB Volume Model Summary ===\n",
      "R^2 Score:       0.981\n",
      "Mean Absolute Error (MAE): 9.76 fantasy points\n",
      "Root Mean Squared Error (RMSE): 13.14 fantasy points\n"
     ]
    }
   ],
   "source": [
    "features = ['Rush_ATT', 'TGT', 'GP', 'Rec_YDS', 'Rush_YDS']\n",
    "\n",
    "X = df[features]\n",
    "y = df['PTS']\n",
    "\n",
    "model = LinearRegression()\n",
    "model.fit(X,y)\n",
    "\n",
    "df['ML_exp_fantasy'] = model.predict(X)\n",
    "y_pred = model.predict(X)\n",
    "df['deltas'] = df['ML_exp_fantasy'] - df['PTS']\n",
    "\n",
    "y_pred = model.predict(X)\n",
    "r2 = r2_score(y, y_pred)\n",
    "mae = mean_absolute_error(y, y_pred)\n",
    "rmse = np.sqrt(mean_squared_error(y, y_pred))\n",
    "\n",
    "\n",
    "print(\"=== RB Volume Model Summary ===\")\n",
    "print(f\"R^2 Score:       {r2:.3f}\")\n",
    "print(f\"Mean Absolute Error (MAE): {mae:.2f} fantasy points\")\n",
    "print(f\"Root Mean Squared Error (RMSE): {rmse:.2f} fantasy points\")\n",
    "\n",
    "\n",
    "\n"
   ]
  },
  {
   "cell_type": "code",
   "execution_count": 68,
   "id": "9f7ccae4",
   "metadata": {},
   "outputs": [
    {
     "name": "stdout",
     "output_type": "stream",
     "text": [
      "Intercept (baseline points): 0.8922112957745156\n",
      "\n",
      "Feature Weights (Fantasy Points contribution per unit):\n",
      "    Feature  Coefficient\n",
      "0  Rush_ATT    -0.013451\n",
      "1       TGT     0.290379\n",
      "2        GP    -0.186239\n",
      "3   Rec_YDS     0.205159\n",
      "4  Rush_YDS     0.153592\n"
     ]
    }
   ],
   "source": [
    "# Intercept + coefficients\n",
    "print(\"Intercept (baseline points):\", model.intercept_)\n",
    "\n",
    "coef_table = pd.DataFrame({\n",
    "    \"Feature\": X.columns,\n",
    "    \"Coefficient\": model.coef_\n",
    "})\n",
    "\n",
    "print(\"\\nFeature Weights (Fantasy Points contribution per unit):\")\n",
    "print(coef_table)\n"
   ]
  },
  {
   "cell_type": "code",
   "execution_count": 70,
   "id": "cf8b212c",
   "metadata": {},
   "outputs": [],
   "source": [
    "df.to_csv('../files/2024_fantasy_rb_stats_with_ML.csv', index=False)"
   ]
  },
  {
   "cell_type": "markdown",
   "id": "49c96b83",
   "metadata": {},
   "source": [
    "WR - Linear Regression"
   ]
  },
  {
   "cell_type": "code",
   "execution_count": 71,
   "id": "9add8581",
   "metadata": {},
   "outputs": [],
   "source": [
    "df_wr = pd.read_csv('../files/2024_fantasy_wr_stats.csv')\n"
   ]
  },
  {
   "cell_type": "code",
   "execution_count": 72,
   "id": "3c1e1ad1",
   "metadata": {},
   "outputs": [
    {
     "name": "stdout",
     "output_type": "stream",
     "text": [
      "=== RB Volume Model Summary ===\n",
      "R^2 Score:       0.982\n",
      "Mean Absolute Error (MAE): 7.83 fantasy points\n",
      "Root Mean Squared Error (RMSE): 11.43 fantasy points\n"
     ]
    }
   ],
   "source": [
    "features = ['Rush_ATT', 'TGT', 'GP', 'Rec_YDS', 'Rush_YDS']\n",
    "\n",
    "X = df_wr[features]\n",
    "y = df_wr['PTS']\n",
    "\n",
    "model = LinearRegression()\n",
    "model.fit(X,y)\n",
    "\n",
    "df_wr['ML_exp_fantasy'] = model.predict(X)\n",
    "y_pred = model.predict(X)\n",
    "df_wr['deltas'] = df_wr['ML_exp_fantasy'] - df_wr['PTS']\n",
    "\n",
    "y_pred = model.predict(X)\n",
    "r2 = r2_score(y, y_pred)\n",
    "mae = mean_absolute_error(y, y_pred)\n",
    "rmse = np.sqrt(mean_squared_error(y, y_pred))\n",
    "\n",
    "\n",
    "print(\"=== RB Volume Model Summary ===\")\n",
    "print(f\"R^2 Score:       {r2:.3f}\")\n",
    "print(f\"Mean Absolute Error (MAE): {mae:.2f} fantasy points\")\n",
    "print(f\"Root Mean Squared Error (RMSE): {rmse:.2f} fantasy points\")\n"
   ]
  },
  {
   "cell_type": "code",
   "execution_count": 73,
   "id": "17094647",
   "metadata": {},
   "outputs": [
    {
     "name": "stdout",
     "output_type": "stream",
     "text": [
      "Intercept (baseline points): -0.3570337207069656\n",
      "\n",
      "Feature Weights (Fantasy Points contribution per unit):\n",
      "    Feature  Coefficient\n",
      "0  Rush_ATT    -0.088165\n",
      "1       TGT     0.414457\n",
      "2        GP    -0.070945\n",
      "3   Rec_YDS     0.171835\n",
      "4  Rush_YDS     0.110492\n"
     ]
    }
   ],
   "source": [
    "# Intercept + coefficients\n",
    "print(\"Intercept (baseline points):\", model.intercept_)\n",
    "\n",
    "coef_table = pd.DataFrame({\n",
    "    \"Feature\": X.columns,\n",
    "    \"Coefficient\": model.coef_\n",
    "})\n",
    "\n",
    "print(\"\\nFeature Weights (Fantasy Points contribution per unit):\")\n",
    "print(coef_table)\n"
   ]
  },
  {
   "cell_type": "code",
   "execution_count": 75,
   "id": "3b1e4384",
   "metadata": {},
   "outputs": [],
   "source": [
    "df_wr.to_csv('../files/2024_fantasy_wr_stats_with_ML.csv', index=False)"
   ]
  },
  {
   "cell_type": "markdown",
   "id": "937cc294",
   "metadata": {},
   "source": [
    "TE - Linear Regression"
   ]
  },
  {
   "cell_type": "code",
   "execution_count": 76,
   "id": "39855281",
   "metadata": {},
   "outputs": [
    {
     "name": "stdout",
     "output_type": "stream",
     "text": [
      "=== RB Volume Model Summary ===\n",
      "R^2 Score:       0.980\n",
      "Mean Absolute Error (MAE): 6.35 fantasy points\n",
      "Root Mean Squared Error (RMSE): 8.83 fantasy points\n"
     ]
    }
   ],
   "source": [
    "df_te = pd.read_csv('../files/2024_fantasy_te_stats.csv')\n",
    "features = [ 'TGT', 'GP', 'Rec_YDS']\n",
    "\n",
    "X = df_te[features]\n",
    "y = df_te['PTS']\n",
    "\n",
    "model = LinearRegression()\n",
    "model.fit(X,y)\n",
    "\n",
    "df_te['ML_exp_fantasy'] = model.predict(X)\n",
    "y_pred = model.predict(X)\n",
    "df_te['deltas'] = df_te['ML_exp_fantasy'] - df_te['PTS']\n",
    "\n",
    "y_pred = model.predict(X)\n",
    "r2 = r2_score(y, y_pred)\n",
    "mae = mean_absolute_error(y, y_pred)\n",
    "rmse = np.sqrt(mean_squared_error(y, y_pred))\n",
    "\n",
    "\n",
    "print(\"=== RB Volume Model Summary ===\")\n",
    "print(f\"R^2 Score:       {r2:.3f}\")\n",
    "print(f\"Mean Absolute Error (MAE): {mae:.2f} fantasy points\")\n",
    "print(f\"Root Mean Squared Error (RMSE): {rmse:.2f} fantasy points\")\n"
   ]
  },
  {
   "cell_type": "code",
   "execution_count": 78,
   "id": "6064ce56",
   "metadata": {},
   "outputs": [],
   "source": [
    "df_te.to_csv('../files/2024_fantasy_te_stats_with_ML.csv', index=False)"
   ]
  },
  {
   "cell_type": "markdown",
   "id": "8639dc60",
   "metadata": {},
   "source": [
    "QBs"
   ]
  },
  {
   "cell_type": "code",
   "execution_count": 79,
   "id": "8341a7cf",
   "metadata": {},
   "outputs": [],
   "source": [
    "df_qb = pd.read_csv('../files/2024_fantasy_qb_stats.csv')"
   ]
  },
  {
   "cell_type": "code",
   "execution_count": 80,
   "id": "a492ea0b",
   "metadata": {},
   "outputs": [
    {
     "name": "stdout",
     "output_type": "stream",
     "text": [
      "=== RB Volume Model Summary ===\n",
      "R^2 Score:       0.945\n",
      "Mean Absolute Error (MAE): 19.07 fantasy points\n",
      "Root Mean Squared Error (RMSE): 22.88 fantasy points\n"
     ]
    }
   ],
   "source": [
    "features = ['CMP', 'Pass_YDS', 'Rush_ATT', 'Rush_YDS', 'GP']\n",
    "\n",
    "X = df_qb[features]\n",
    "y = df_qb['PTS']\n",
    "\n",
    "model = LinearRegression()\n",
    "model.fit(X,y)\n",
    "\n",
    "df_qb['ML_exp_fantasy'] = model.predict(X)\n",
    "y_pred = model.predict(X)\n",
    "df_qb['deltas'] = df_qb['ML_exp_fantasy'] - df_qb['PTS']\n",
    "\n",
    "y_pred = model.predict(X)\n",
    "r2 = r2_score(y, y_pred)\n",
    "mae = mean_absolute_error(y, y_pred)\n",
    "rmse = np.sqrt(mean_squared_error(y, y_pred))\n",
    "\n",
    "\n",
    "print(\"=== RB Volume Model Summary ===\")\n",
    "print(f\"R^2 Score:       {r2:.3f}\")\n",
    "print(f\"Mean Absolute Error (MAE): {mae:.2f} fantasy points\")\n",
    "print(f\"Root Mean Squared Error (RMSE): {rmse:.2f} fantasy points\")"
   ]
  },
  {
   "cell_type": "code",
   "execution_count": 82,
   "id": "d40489f6",
   "metadata": {},
   "outputs": [],
   "source": [
    "df_qb.to_csv('../files/2024_fantasy_qb_stats_with_ML.csv', index=False)"
   ]
  },
  {
   "cell_type": "markdown",
   "id": "580dec06",
   "metadata": {},
   "source": [
    "Normalized Residuals to give relative regression risk score of positive/negative TD regression!"
   ]
  },
  {
   "cell_type": "code",
   "execution_count": null,
   "id": "8950a592",
   "metadata": {},
   "outputs": [],
   "source": [
    "def add_regression_risk(df, delta_col=\"deltas\"):\n",
    "    \"\"\"\n",
    "    Adds z-scores and signed regression risk (-1 to 1) to a DataFrame,\n",
    "    based on the residual column (delta_col).\n",
    "    \n",
    "    Args:\n",
    "        df (pd.DataFrame): The dataframe (RB/WR/TE/QB).\n",
    "        delta_col (str): The name of the column holding residuals (exp - actual).\n",
    "    \n",
    "    Returns:\n",
    "        pd.DataFrame: Original df with added 'z_score' and 'regression_risk' columns.\n",
    "    \"\"\"\n",
    "    mean_delta = df[delta_col].mean()\n",
    "    std_delta = df[delta_col].std()\n",
    "\n",
    "    # z-score\n",
    "    df[\"z_score\"] = (df[delta_col] - mean_delta) / std_delta\n",
    "\n",
    "    # extremeness → probability-like score\n",
    "    risk = 2* norm.cdf(abs(df[\"z_score\"])) - 1\n",
    "\n",
    "    # signed risk (-1 to 1, direction + extremeness)\n",
    "    df[\"rel_regression_risk\"] = np.sign(df[delta_col]) * risk\n",
    "    \n",
    "    return df\n",
    "\n",
    "# === Usage for each position ===\n",
    "df   = add_regression_risk(df,   delta_col=\"deltas\")\n",
    "df_wr = add_regression_risk(df_wr, delta_col=\"deltas\")\n",
    "df_te = add_regression_risk(df_te, delta_col=\"deltas\")\n",
    "df_qb = add_regression_risk(df_qb, delta_col=\"deltas\")\n"
   ]
  },
  {
   "cell_type": "markdown",
   "id": "35f8f9cc",
   "metadata": {},
   "source": [
    "CSVs finally updated with ML work and relative regression risk"
   ]
  },
  {
   "cell_type": "code",
   "execution_count": 89,
   "id": "75e8ae2b",
   "metadata": {},
   "outputs": [],
   "source": [
    "df.to_csv('../updated_files/2024_fantasy_rb_stats_with_ML.csv', index=False)\n",
    "df_wr.to_csv('../updated_files/2024_fantasy_wr_stats_with_ML.csv', index=False)\n",
    "df_te.to_csv('../updated_files/2024_fantasy_te_stats_with_ML.csv', index=False)\n",
    "df_qb.to_csv('../updated_files/2024_fantasy_qb_stats_with_ML.csv', index=False)"
   ]
  }
 ],
 "metadata": {
  "kernelspec": {
   "display_name": "Python 3",
   "language": "python",
   "name": "python3"
  },
  "language_info": {
   "codemirror_mode": {
    "name": "ipython",
    "version": 3
   },
   "file_extension": ".py",
   "mimetype": "text/x-python",
   "name": "python",
   "nbconvert_exporter": "python",
   "pygments_lexer": "ipython3",
   "version": "3.13.3"
  }
 },
 "nbformat": 4,
 "nbformat_minor": 5
}
